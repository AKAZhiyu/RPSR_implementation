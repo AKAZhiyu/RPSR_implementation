{
 "cells": [
  {
   "cell_type": "markdown",
   "id": "33e5c810-50f6-4896-acb4-e43ac5d62ac8",
   "metadata": {},
   "source": [
    "# Hello RRSR!"
   ]
  },
  {
   "cell_type": "code",
   "execution_count": 1,
   "id": "e759451b-d227-4f29-95c5-0005794da73d",
   "metadata": {},
   "outputs": [],
   "source": [
    "import numpy as np\n",
    "import pandas as pd\n",
    "from sklearn.datasets import load_iris\n",
    "from sklearn.model_selection import train_test_split\n",
    "from scipy.stats import norm\n",
    "import itertools"
   ]
  },
  {
   "cell_type": "code",
   "execution_count": 37,
   "id": "06f1af3d-7054-40e5-a3c5-c3ac1de6efd2",
   "metadata": {},
   "outputs": [
    {
     "name": "stdout",
     "output_type": "stream",
     "text": [
      "/Users/zhiyuzhang/rspr\n"
     ]
    }
   ],
   "source": [
    "!pwd"
   ]
  },
  {
   "cell_type": "code",
   "execution_count": 2,
   "id": "4261951c-c34c-4c5b-a77c-1bbb8ab9d7fa",
   "metadata": {},
   "outputs": [],
   "source": [
    "# 1. 加载Iris数据集并划分为训练集和测试集\n",
    "iris = load_iris()\n",
    "X = iris.data  # 四个属性\n",
    "y = iris.target  # 三个类 (0, 1, 2)\n",
    "num_classes = len(np.unique(iris.target))\n",
    "num_attributes = iris.data.shape[1]\n",
    "# 将数据集划分为训练集和测试集，乱序\n",
    "X_train, X_test, y_train, y_test = train_test_split(X, y, test_size=0.2, shuffle=True, random_state=42)"
   ]
  },
  {
   "cell_type": "markdown",
   "id": "9fbb3695-1161-4fb2-b061-ba9b1842ccdf",
   "metadata": {},
   "source": [
    "## RPS generation method"
   ]
  },
  {
   "cell_type": "markdown",
   "id": "09dce0ef-4dd1-4c31-bb6d-c7e721f95b73",
   "metadata": {},
   "source": [
    "### Step 1: \n",
    "Establish Gaussian discriminant model (GDM), and then construct membership vector based on the GDM."
   ]
  },
  {
   "cell_type": "code",
   "execution_count": 3,
   "id": "c7bf6e09-2130-43dd-afa5-f4ec666944c9",
   "metadata": {},
   "outputs": [
    {
     "name": "stdout",
     "output_type": "stream",
     "text": [
      "每个类中每个属性的均值和标准差:\n",
      " [[[4.99       0.3564785 ]\n",
      "  [3.4525     0.39547926]\n",
      "  [1.45       0.18397324]\n",
      "  [0.245      0.10609623]]\n",
      "\n",
      " [[5.9195122  0.54231887]\n",
      "  [2.77073171 0.32034661]\n",
      "  [4.24146341 0.4811318 ]\n",
      "  [1.32195122 0.20556288]]\n",
      "\n",
      " [[6.53333333 0.65386838]\n",
      "  [2.96666667 0.31898963]\n",
      "  [5.52051282 0.5415278 ]\n",
      "  [2.         0.2901905 ]]]\n",
      "Shape of mean_std_by_class:\n",
      " (3, 4, 2)\n"
     ]
    }
   ],
   "source": [
    "# 2. 计算每个类中每个属性的 mean value and standard deviation (无偏估计)\n",
    "mean_std_by_class = []\n",
    "for class_label in np.unique(y_train):\n",
    "    X_class = X_train[y_train == class_label]\n",
    "    mean_std = [(np.mean(X_class[:, i]), np.std(X_class[:, i], ddof=1)) for i in range(X_class.shape[1])]\n",
    "    mean_std_by_class.append(mean_std)\n",
    "\n",
    "mean_std_by_class = np.array(mean_std_by_class)\n",
    "print(\"每个类中每个属性的均值和标准差:\\n\", mean_std_by_class)\n",
    "print(\"Shape of mean_std_by_class:\\n\", mean_std_by_class.shape)"
   ]
  },
  {
   "cell_type": "code",
   "execution_count": 4,
   "id": "abf7318f-686b-4ffb-b66c-7865ae36349f",
   "metadata": {},
   "outputs": [
    {
     "name": "stdout",
     "output_type": "stream",
     "text": [
      "\n",
      "测试集中选取的样本: [4.8 3.1 1.6 0.2]\n",
      "\n",
      "每个类中每个属性的高斯分布函数值:\n",
      " [[9.70933651e-01 6.78066112e-01 1.55525584e+00 3.43673357e+00]\n",
      " [8.73600311e-02 7.34309464e-01 2.36352056e-07 6.59670262e-07]\n",
      " [1.81751689e-02 1.14602774e+00 3.06065352e-12 6.07416772e-09]]\n"
     ]
    }
   ],
   "source": [
    "# 3. 为每个类和每个属性建立高斯分布函数，并对测试集中随机选取的一个样本进行预测\n",
    "\n",
    "# 保存下(3,4)个Gaussian distribution函数\n",
    "# 创建一个(3,4)的函数数组，用来存储每个类中每个属性的高斯分布函数\n",
    "gaussian_functions = np.empty((3, 4), dtype=object)\n",
    "\n",
    "# 初始化并保存高斯分布函数\n",
    "for class_label in range(num_classes):\n",
    "    for i in range(num_attributes):  # 四个属性\n",
    "        mean, std = mean_std_by_class[class_label, i]\n",
    "        # 保存高斯分布函数\n",
    "        gaussian_functions[class_label, i] = norm(loc=mean, scale=std)\n",
    "\n",
    "# 随机选择一个测试集中的样本\n",
    "test_sample = X_test[np.random.randint(0, len(X_test))]\n",
    "\n",
    "# 计算该测试样本在每个类中每个属性的高斯分布结果\n",
    "gaussian_results = []\n",
    "for class_label in range(num_classes):\n",
    "    class_results = []\n",
    "    for i in range(num_attributes):  # 四个属性\n",
    "        # 调用保存的高斯分布函数，计算概率密度值\n",
    "        pdf_value = gaussian_functions[class_label, i].pdf(test_sample[i])\n",
    "        class_results.append(pdf_value)\n",
    "    gaussian_results.append(class_results)\n",
    "\n",
    "gaussian_results = np.array(gaussian_results)\n",
    "print(\"\\n测试集中选取的样本:\", test_sample)\n",
    "print(\"\\n每个类中每个属性的高斯分布函数值:\\n\", gaussian_results)"
   ]
  },
  {
   "cell_type": "markdown",
   "id": "fc4dd7b3-f12f-4ab2-9b2b-0eb6d254516b",
   "metadata": {},
   "source": [
    "### Step 2: \n",
    "Perform weight analysis for the test sample."
   ]
  },
  {
   "cell_type": "code",
   "execution_count": 5,
   "id": "b27f904d-c374-40f3-bc69-c99f024d30d0",
   "metadata": {},
   "outputs": [
    {
     "name": "stdout",
     "output_type": "stream",
     "text": [
      "\n",
      "每个属性针对所有类的归一化后的MV (归一化后的高斯分布值):\n",
      " [[9.01961678e-01 2.65034879e-01 9.99999848e-01 9.99999806e-01]\n",
      " [8.11542582e-02 2.87018650e-01 1.51969865e-07 1.91946836e-07]\n",
      " [1.68840639e-02 4.47946471e-01 1.96794185e-12 1.76742434e-09]]\n"
     ]
    }
   ],
   "source": [
    "column_sums = np.sum(gaussian_results, axis=0)\n",
    "normalized_results = gaussian_results / column_sums\n",
    "print(\"\\n每个属性针对所有类的归一化后的MV (归一化后的高斯分布值):\\n\", normalized_results)"
   ]
  },
  {
   "cell_type": "code",
   "execution_count": 6,
   "id": "bb5cc5c4-8df1-4069-9b7c-cd9480e2a2ca",
   "metadata": {},
   "outputs": [
    {
     "name": "stdout",
     "output_type": "stream",
     "text": [
      "\n",
      "归一化后的MV降序排序的结果:\n",
      " [[9.01961678e-01 4.47946471e-01 9.99999848e-01 9.99999806e-01]\n",
      " [8.11542582e-02 2.87018650e-01 1.51969865e-07 1.91946836e-07]\n",
      " [1.68840639e-02 2.65034879e-01 1.96794185e-12 1.76742434e-09]]\n",
      "\n",
      "每个元素排序前的原始类索引:\n",
      " [[0 2 0 0]\n",
      " [1 1 1 1]\n",
      " [2 0 2 2]]\n"
     ]
    }
   ],
   "source": [
    "# 对归一化后的MV（normalized membership vector）进行降序排序，并保留原始顺序的索引\n",
    "sorted_indices = np.argsort(-normalized_results, axis=0)  # 降序排序，使用负号实现降序\n",
    "sorted_nmv = np.take_along_axis(normalized_results, sorted_indices, axis=0)  # 按照索引排序后的值\n",
    "sorted_gaussian_functions = np.take_along_axis(gaussian_functions, sorted_indices, axis=0) # 按照索引排序后的GDM\n",
    "\n",
    "# 打印结果\n",
    "print(\"\\n归一化后的MV降序排序的结果:\\n\", sorted_nmv)\n",
    "print(\"\\n每个元素排序前的原始类索引:\\n\", sorted_indices)\n"
   ]
  },
  {
   "cell_type": "code",
   "execution_count": 7,
   "id": "064dde09-7d70-4c23-9ad9-b7e80f97c168",
   "metadata": {},
   "outputs": [
    {
     "name": "stdout",
     "output_type": "stream",
     "text": [
      "\n",
      "排序后的 x_mean_ord:\n",
      " [[4.99       2.96666667 1.45       0.245     ]\n",
      " [5.9195122  2.77073171 4.24146341 1.32195122]\n",
      " [6.53333333 3.4525     5.52051282 2.        ]]\n",
      "\n",
      "排序后的 std_ord:\n",
      " [[0.3564785  0.31898963 0.18397324 0.10609623]\n",
      " [0.54231887 0.32034661 0.4811318  0.20556288]\n",
      " [0.65386838 0.39547926 0.5415278  0.2901905 ]]\n"
     ]
    }
   ],
   "source": [
    "x_mean_ord = np.empty((3, 4))\n",
    "std_ord = np.empty((3, 4))\n",
    "\n",
    "\n",
    "# mean_std_by_class 的 shape 是 (3, 4, 2)，索引 [class, attribute, 0] 获取均值，索引 [class, attribute, 1] 获取标准差\n",
    "for attr_idx in range(num_attributes):  # 对每个属性进行操作\n",
    "    for class_idx in range(num_classes):  # 对每个类进行操作\n",
    "        sorted_class_idx = sorted_indices[class_idx, attr_idx]  # 获取排序后的类索引\n",
    "        x_mean_ord[class_idx, attr_idx] = mean_std_by_class[sorted_class_idx, attr_idx, 0]  # 获取排序后的均值\n",
    "        std_ord[class_idx, attr_idx] = mean_std_by_class[sorted_class_idx, attr_idx, 1]  # 获取排序后的标准差\n",
    "\n",
    "print(\"\\n排序后的 x_mean_ord:\\n\", x_mean_ord)\n",
    "print(\"\\n排序后的 std_ord:\\n\", std_ord)"
   ]
  },
  {
   "cell_type": "code",
   "execution_count": 8,
   "id": "cb0cb4ae-a228-4ba8-99a3-2a1804a99644",
   "metadata": {},
   "outputs": [
    {
     "name": "stdout",
     "output_type": "stream",
     "text": [
      "\n",
      "Supporting degree (支持度):\n",
      " [[0.82695913 0.87517332 0.86070798 0.95599748]\n",
      " [0.32643899 0.71944997 0.07125691 0.32564377]\n",
      " [0.17669445 0.70292857 0.01983092 0.16529889]]\n"
     ]
    }
   ],
   "source": [
    "supporting_degree = np.exp(-np.abs(test_sample - x_mean_ord))\n",
    "\n",
    "print(\"\\nSupporting degree (支持度):\\n\", supporting_degree)"
   ]
  },
  {
   "cell_type": "code",
   "execution_count": 9,
   "id": "fb2a34c2-b1ed-4b6e-8d18-3986d31b48e9",
   "metadata": {},
   "outputs": [
    {
     "data": {
      "text/plain": [
       "[(0,),\n",
       " (0, 1),\n",
       " (1, 0),\n",
       " (0, 1, 2),\n",
       " (0, 2, 1),\n",
       " (1, 0, 2),\n",
       " (1, 2, 0),\n",
       " (2, 0, 1),\n",
       " (2, 1, 0)]"
      ]
     },
     "execution_count": 9,
     "metadata": {},
     "output_type": "execute_result"
    }
   ],
   "source": [
    "# 生成所有按顺序选择的排列组合\n",
    "def get_ordered_permutations(num_classes):\n",
    "    result = []\n",
    "    # 逐步增加元素数量\n",
    "    for i in range(1, num_classes + 1):\n",
    "        # 生成i个元素的全排列\n",
    "        result.extend(itertools.permutations(range(i), i))\n",
    "    return result\n",
    "\n",
    "# 获取按顺序选择的排列组合\n",
    "all_combinations = get_ordered_permutations(num_classes)\n",
    "all_combinations"
   ]
  },
  {
   "cell_type": "code",
   "execution_count": 10,
   "id": "3c71d2d0-dfac-400b-a633-62524d00fb34",
   "metadata": {},
   "outputs": [],
   "source": [
    "# supporting_degree: 形状为 (3, 4) 的支持度矩阵 (3个类，4个属性)\n",
    "# num_classes: 类别的数量 (3)\n",
    "# num_attributes: 属性的数量 (4)\n"
   ]
  },
  {
   "cell_type": "code",
   "execution_count": 11,
   "id": "a38f864b-cc12-4b47-8326-852605093b64",
   "metadata": {},
   "outputs": [
    {
     "name": "stdout",
     "output_type": "stream",
     "text": [
      "\n",
      "权重矩阵 (Weight matrix):\n",
      " [[1.         1.         1.         1.        ]\n",
      " [0.71697631 0.54882763 0.9235412  0.7459166 ]\n",
      " [0.28302369 0.45117237 0.0764588  0.2540834 ]\n",
      " [0.40338619 0.19267002 0.70742216 0.43824623]\n",
      " [0.21834432 0.18824556 0.19687681 0.22245663]\n",
      " [0.20221826 0.1736578  0.07317968 0.19187948]\n",
      " [0.04320751 0.13947984 0.00168608 0.03317735]\n",
      " [0.0952458  0.16791204 0.01924223 0.08521374]\n",
      " [0.03759792 0.13803473 0.00159304 0.02902657]]\n"
     ]
    }
   ],
   "source": [
    "# 初始化权重矩阵 weight_matrix\n",
    "num_combinations = len(all_combinations)  # 所有按顺序排列组合的数量 (应该是9)\n",
    "weight_matrix = np.zeros((num_combinations, num_attributes))  # (9, 4)\n",
    "\n",
    "\n",
    "# 对每个属性计算权重\n",
    "for attr_idx in range(num_attributes):\n",
    "    s = supporting_degree[:, attr_idx]  # 取出该属性对应的支持度 (3,)\n",
    "    \n",
    "    # 遍历每个组合，计算 w(i1...iu...iq)\n",
    "    for comb_idx, combination in enumerate(all_combinations):\n",
    "        q = len(combination)  # 该组合的长度\n",
    "        weight = 1.0  # 初始化权重\n",
    "        \n",
    "        # 根据公式 (19) 计算权重\n",
    "        for u in range(q):\n",
    "            \n",
    "            i_u = combination[u]  # 当前排列项 i_u\n",
    "            numerator = s[i_u]  # 分子支持度\n",
    "            denominator_sum = np.sum(s[list(combination[u:])])  # 分母，从 u 到 q 的支持度和\n",
    "            weight *= numerator / denominator_sum  # 按公式累乘\n",
    "        \n",
    "        # 将计算好的权重保存到 weight_matrix\n",
    "        weight_matrix[comb_idx, attr_idx] = weight\n",
    "\n",
    "# 输出权重矩阵\n",
    "print(\"\\n权重矩阵 (Weight matrix):\\n\", weight_matrix)"
   ]
  },
  {
   "cell_type": "markdown",
   "id": "2b32b54b-df37-4c48-9a48-56e804f1c816",
   "metadata": {},
   "source": [
    "### Step 3: \n",
    "Construct weighted PMF based on weight vector and ONMV, and then generate weighted RPS."
   ]
  },
  {
   "cell_type": "code",
   "execution_count": 12,
   "id": "6b0f6670-1244-4656-bffc-e5097c50ccb7",
   "metadata": {},
   "outputs": [],
   "source": [
    "# 计算 weighted PMF\n",
    "def calculate_weighted_pmf(weight_matrix, sorted_nmv):\n",
    "    num_combinations, num_attributes = weight_matrix.shape\n",
    "    num_classes = sorted_nmv.shape[0]  # 获取类的数量（classes）\n",
    "    \n",
    "    # 获取排列组合\n",
    "    all_combinations = get_ordered_permutations(num_classes)\n",
    "    \n",
    "    # 初始化 weighted_pmf 矩阵\n",
    "    weighted_pmf = np.zeros_like(weight_matrix)\n",
    "    \n",
    "    # 记录当前组合数对应的起始位置\n",
    "    current_row = 0\n",
    "    \n",
    "    # 遍历组合大小 i（从 1 到 num_classes）\n",
    "    for i in range(1, num_classes + 1):\n",
    "        num_permutations = len(list(itertools.permutations(range(i), i)))  # 当前大小的排列组合数量\n",
    "        \n",
    "        # 遍历每个属性 j\n",
    "        for j in range(num_attributes):\n",
    "            # 对于当前大小 i 的排列组合，使用 sorted_nmv[i-1, j]\n",
    "            weighted_pmf[current_row:current_row + num_permutations, j] = (\n",
    "                weight_matrix[current_row:current_row + num_permutations, j] * sorted_nmv[i-1, j]\n",
    "            )\n",
    "        \n",
    "        # 更新起始行\n",
    "        current_row += num_permutations\n",
    "    \n",
    "    return weighted_pmf\n"
   ]
  },
  {
   "cell_type": "markdown",
   "id": "47b3cede-df84-4e29-aaea-1ff8afa5f9f8",
   "metadata": {},
   "source": [
    "用于测试实现正确"
   ]
  },
  {
   "cell_type": "code",
   "execution_count": 13,
   "id": "45c39426-2a86-4377-9fd3-94e1a58d676a",
   "metadata": {},
   "outputs": [
    {
     "name": "stdout",
     "output_type": "stream",
     "text": [
      "\n",
      "测试用 PMF:\n",
      " [[5.0000000e-01 5.4000000e-01 5.6000000e-01 6.1890000e-01]\n",
      " [2.4000000e-01 2.5000000e-01 2.4000000e-01 2.0480314e-01]\n",
      " [8.0000000e-02 5.0000000e-02 1.8000000e-01 1.7629686e-01]\n",
      " [1.5000000e-01 2.8000000e-01 3.0000000e-01 1.2999600e-33]\n",
      " [1.2000000e-01 2.4000000e-01 2.5000000e-01 1.1194100e-33]\n",
      " [9.0000000e-02 8.0000000e-02 2.0000000e-01 2.0158800e-33]\n",
      " [6.0000000e-02 1.2000000e-01 2.5000000e-01 5.1213400e-33]\n",
      " [3.0000000e-02 8.0000000e-02 1.5000000e-01 1.5543000e-33]\n",
      " [6.0000000e-02 4.0000000e-02 2.0000000e-01 4.5891100e-33]]\n"
     ]
    }
   ],
   "source": [
    "# 示例\n",
    "# 假设 weight_matrix 是一个 (9, 4) 的矩阵，sorted_nmv 是一个 (3, 4) 的矩阵\n",
    "# sorted_nmv 示例数据\n",
    "sorted_nmv_FORTEST = np.array([\n",
    "    [0.5, 0.6, 0.7, 0.6189],\n",
    "    [0.4, 0.5, 0.6, 0.3811],\n",
    "    [0.3, 0.4, 0.5, 1.57e-32]\n",
    "])\n",
    "\n",
    "# weight_matrix 示例数据\n",
    "weight_FORTEST = np.array([\n",
    "    [1.0, 0.9, 0.8, 1],\n",
    "    [0.6, 0.5, 0.4, 0.5374],\n",
    "    [0.2, 0.1, 0.3, 0.4626],\n",
    "    [0.5, 0.7, 0.6, 0.0828],\n",
    "    [0.4, 0.6, 0.5, 0.0713],\n",
    "    [0.3, 0.2, 0.4, 0.1284],\n",
    "    [0.2, 0.3, 0.5, 0.3262],\n",
    "    [0.1, 0.2, 0.3, 0.0990],\n",
    "    [0.2, 0.1, 0.4, 0.2923]\n",
    "])\n",
    "\n",
    "# 调用函数计算 weighted PMF\n",
    "weighted_FORTEST = calculate_weighted_pmf(weight_FORTEST, sorted_nmv_FORTEST)\n",
    "print(\"\\n测试用 PMF:\\n\", weighted_FORTEST)"
   ]
  },
  {
   "cell_type": "code",
   "execution_count": 14,
   "id": "83cd84d4-1d16-4b9d-bf0b-e997226edfff",
   "metadata": {},
   "outputs": [
    {
     "name": "stdout",
     "output_type": "stream",
     "text": [
      "\n",
      "Weighted PMF:\n",
      " [[9.01961678e-01 4.47946471e-01 9.99999848e-01 9.99999806e-01]\n",
      " [5.81856806e-02 1.57523765e-01 1.40350432e-07 1.43176331e-07]\n",
      " [2.29685776e-02 1.29494884e-01 1.16194331e-08 4.87705054e-08]\n",
      " [6.81079825e-03 5.10642767e-02 1.39216568e-12 7.74567051e-10]\n",
      " [3.68653942e-03 4.98916403e-02 3.87442113e-13 3.93175253e-10]\n",
      " [3.41426606e-03 4.60253750e-02 1.44013355e-13 3.39132471e-10]\n",
      " [7.29518333e-04 3.69670217e-02 3.31810295e-15 5.86384603e-11]\n",
      " [1.60813618e-03 4.45025474e-02 3.78675897e-14 1.50608842e-10]\n",
      " [6.34805683e-04 3.65840178e-02 3.13500942e-15 5.13022599e-11]]\n"
     ]
    }
   ],
   "source": [
    "weighted_pmf =  calculate_weighted_pmf(weight_matrix, sorted_nmv)\n",
    "print(\"\\nWeighted PMF:\\n\", weighted_pmf)"
   ]
  },
  {
   "cell_type": "code",
   "execution_count": 15,
   "id": "d88f8f00-1744-4781-8b2e-09bae4605703",
   "metadata": {},
   "outputs": [],
   "source": [
    "def get_acc_permutations(num):\n",
    "    all_combinations_ = []\n",
    "    for r in range(1, num + 1):  \n",
    "        permutations_ = list(itertools.permutations(range(num), r))\n",
    "        all_combinations_.extend(permutations_)\n",
    "\n",
    "    return len(all_combinations_)\n",
    "assert get_acc_permutations(3) == 15"
   ]
  },
  {
   "cell_type": "code",
   "execution_count": 16,
   "id": "5534c2b7-c824-4d11-858c-6b89de3216b4",
   "metadata": {},
   "outputs": [
    {
     "data": {
      "text/plain": [
       "[{((0,), 0.9019616778270755),\n",
       "  ((0, 1), 0.058185680611657735),\n",
       "  ((0, 1, 2), 0.006810798250663182),\n",
       "  ((0, 2, 1), 0.003686539423855208),\n",
       "  ((1, 0), 0.022968577627751587),\n",
       "  ((1, 0, 2), 0.0034142660603860247),\n",
       "  ((1, 2, 0), 0.0007295183334256347),\n",
       "  ((2, 0, 1), 0.0016081361820002053),\n",
       "  ((2, 1, 0), 0.0006348056831850029)},\n",
       " {((0, 1, 2), 0.03658401779316063),\n",
       "  ((0, 2, 1), 0.044502547381851505),\n",
       "  ((1, 0, 2), 0.036967021652562014),\n",
       "  ((1, 2), 0.12949488448505558),\n",
       "  ((1, 2, 0), 0.04602537501572448),\n",
       "  ((2,), 0.44794647134065685),\n",
       "  ((2, 0, 1), 0.049891640307462404),\n",
       "  ((2, 1), 0.15752376529788742),\n",
       "  ((2, 1, 0), 0.0510642767256391)},\n",
       " {((0,), 0.999999848028167),\n",
       "  ((0, 1), 1.4035043190476228e-07),\n",
       "  ((0, 1, 2), 1.392165681625184e-12),\n",
       "  ((0, 2, 1), 3.874421131011696e-13),\n",
       "  ((1, 0), 1.161943312150623e-08),\n",
       "  ((1, 0, 2), 1.4401335498224204e-13),\n",
       "  ((1, 2, 0), 3.31810294562212e-15),\n",
       "  ((2, 0, 1), 3.7867589723115854e-14),\n",
       "  ((2, 1, 0), 3.1350094209824195e-15)},\n",
       " {((0,), 0.9999998062857398),\n",
       "  ((0, 1), 1.4317633053817685e-07),\n",
       "  ((0, 1, 2), 7.745670507188031e-10),\n",
       "  ((0, 2, 1), 3.9317525287259656e-10),\n",
       "  ((1, 0), 4.877050536187911e-08),\n",
       "  ((1, 0, 2), 3.3913247061711994e-10),\n",
       "  ((1, 2, 0), 5.86384602659828e-11),\n",
       "  ((2, 0, 1), 1.5060884156217715e-10),\n",
       "  ((2, 1, 0), 5.130225985918813e-11)}]"
      ]
     },
     "execution_count": 16,
     "metadata": {},
     "output_type": "execute_result"
    }
   ],
   "source": [
    "RPS_w = []\n",
    "for j in range(num_attributes):\n",
    "    RPS_w_j = set()\n",
    "    \n",
    "    thetas = sorted_indices[:, j]\n",
    "    weighted_pmf_j = weighted_pmf[:, j]\n",
    "    \n",
    "    for idx, combination in enumerate(all_combinations):\n",
    "        A = thetas[list(combination)]\n",
    "        M_A = weighted_pmf_j[idx]\n",
    "        A = tuple((A))\n",
    "        RPS_w_j.add((A, M_A))\n",
    "    \n",
    "    RPS_w.append(RPS_w_j)\n",
    "\n",
    "RPS_w"
   ]
  },
  {
   "cell_type": "code",
   "execution_count": 17,
   "id": "2cd531c5-98ec-4909-ac68-17fcd56bc85a",
   "metadata": {},
   "outputs": [
    {
     "data": {
      "text/plain": [
       "{((0,), 0.9999998062857398),\n",
       " ((0, 1), 1.4317633053817685e-07),\n",
       " ((0, 1, 2), 7.745670507188031e-10),\n",
       " ((0, 2, 1), 3.9317525287259656e-10),\n",
       " ((1, 0), 4.877050536187911e-08),\n",
       " ((1, 0, 2), 3.3913247061711994e-10),\n",
       " ((1, 2, 0), 5.86384602659828e-11),\n",
       " ((2, 0, 1), 1.5060884156217715e-10),\n",
       " ((2, 1, 0), 5.130225985918813e-11)}"
      ]
     },
     "execution_count": 17,
     "metadata": {},
     "output_type": "execute_result"
    }
   ],
   "source": [
    "RPS_w[3]"
   ]
  },
  {
   "cell_type": "markdown",
   "id": "380c0d8e-fa7f-43b0-bfb2-c8c3a35e2f16",
   "metadata": {},
   "source": [
    "## RPSR rule of combination\n"
   ]
  },
  {
   "cell_type": "markdown",
   "id": "094e3d19-7084-4de2-bbf1-092555909687",
   "metadata": {},
   "source": [
    "### Step 1, 2\n",
    "Set fusion order and reliability vector   \n",
    "**Default is descending order**"
   ]
  },
  {
   "cell_type": "code",
   "execution_count": 19,
   "id": "f020f891-51d1-4b7e-9cb2-1f1a52b3be88",
   "metadata": {},
   "outputs": [
    {
     "name": "stdout",
     "output_type": "stream",
     "text": [
      "Default fusion order:  [0, 1, 2, 3]\n",
      "Default reliability vector:  [1.0, 0.8333333333333334, 0.6666666666666667, 0.5]\n"
     ]
    }
   ],
   "source": [
    "default_fusion_order = [i for i in range(num_attributes)]\n",
    "default_reliability_vector = [(1 - 0.5 * i / (num_attributes - 1)) for i in range(num_attributes)]\n",
    "print(\"Default fusion order: \", default_fusion_order)\n",
    "print(\"Default reliability vector: \", default_reliability_vector)"
   ]
  },
  {
   "cell_type": "code",
   "execution_count": 23,
   "id": "d64576c3-07ae-4641-ae4f-6d9e0ce1b438",
   "metadata": {},
   "outputs": [
    {
     "data": {
      "text/plain": [
       "[{((0,), 0.9019616778270755),\n",
       "  ((0, 1), 0.058185680611657735),\n",
       "  ((0, 1, 2), 0.006810798250663182),\n",
       "  ((0, 2, 1), 0.003686539423855208),\n",
       "  ((1, 0), 0.022968577627751587),\n",
       "  ((1, 0, 2), 0.0034142660603860247),\n",
       "  ((1, 2, 0), 0.0007295183334256347),\n",
       "  ((2, 0, 1), 0.0016081361820002053),\n",
       "  ((2, 1, 0), 0.0006348056831850029)},\n",
       " {((0, 1, 2), 0.03658401779316063),\n",
       "  ((0, 2, 1), 0.044502547381851505),\n",
       "  ((1, 0, 2), 0.036967021652562014),\n",
       "  ((1, 2), 0.12949488448505558),\n",
       "  ((1, 2, 0), 0.04602537501572448),\n",
       "  ((2,), 0.44794647134065685),\n",
       "  ((2, 0, 1), 0.049891640307462404),\n",
       "  ((2, 1), 0.15752376529788742),\n",
       "  ((2, 1, 0), 0.0510642767256391)},\n",
       " {((0,), 0.999999848028167),\n",
       "  ((0, 1), 1.4035043190476228e-07),\n",
       "  ((0, 1, 2), 1.392165681625184e-12),\n",
       "  ((0, 2, 1), 3.874421131011696e-13),\n",
       "  ((1, 0), 1.161943312150623e-08),\n",
       "  ((1, 0, 2), 1.4401335498224204e-13),\n",
       "  ((1, 2, 0), 3.31810294562212e-15),\n",
       "  ((2, 0, 1), 3.7867589723115854e-14),\n",
       "  ((2, 1, 0), 3.1350094209824195e-15)},\n",
       " {((0,), 0.9999998062857398),\n",
       "  ((0, 1), 1.4317633053817685e-07),\n",
       "  ((0, 1, 2), 7.745670507188031e-10),\n",
       "  ((0, 2, 1), 3.9317525287259656e-10),\n",
       "  ((1, 0), 4.877050536187911e-08),\n",
       "  ((1, 0, 2), 3.3913247061711994e-10),\n",
       "  ((1, 2, 0), 5.86384602659828e-11),\n",
       "  ((2, 0, 1), 1.5060884156217715e-10),\n",
       "  ((2, 1, 0), 5.130225985918813e-11)}]"
      ]
     },
     "execution_count": 23,
     "metadata": {},
     "output_type": "execute_result"
    }
   ],
   "source": [
    "def shuffle_by_defusion_order(data, order):\n",
    "    reordered_data = [data[i] for i in order]\n",
    "    return reordered_data\n",
    "\n",
    "RPS_wv = shuffle_by_defusion_order(RPS_w, default_fusion_order)\n",
    "RPS_wv"
   ]
  },
  {
   "cell_type": "markdown",
   "id": "783cd789-c562-4846-9d75-b15863c930a8",
   "metadata": {},
   "source": [
    "### Step 3\n",
    "For each RPS source RPSjv, produce RPS with re\u0002liability RPSjrv"
   ]
  },
  {
   "cell_type": "code",
   "execution_count": 36,
   "id": "64f121fa-94b3-4cf9-8952-79cc40e55bc8",
   "metadata": {},
   "outputs": [
    {
     "data": {
      "text/plain": [
       "[{((0,), 0.9019616778270755),\n",
       "  ((0, 1), 0.058185680611657735),\n",
       "  ((0, 1, 2), 0.006810798250663182),\n",
       "  ((0, 2, 1), 0.003686539423855208),\n",
       "  ((1, 0), 0.022968577627751587),\n",
       "  ((1, 0, 2), 0.0034142660603860247),\n",
       "  ((1, 2, 0), 0.0007295183334256347),\n",
       "  ((2, 0, 1), 0.0016081361820002053),\n",
       "  ((2, 1, 0), 0.0006348056831850029)},\n",
       " {((0, 1, 2), 0.044375570383189414),\n",
       "  ((0, 2, 1), 0.05097434504043181),\n",
       "  ((1, 0, 2), 0.0446947402660239),\n",
       "  ((1, 2), 0.1218012926264352),\n",
       "  ((1, 2, 0), 0.052243368068659285),\n",
       "  ((2,), 0.37328872611721403),\n",
       "  ((2, 0, 1), 0.05546525581177423),\n",
       "  ((2, 1), 0.14515869330379508),\n",
       "  ((2, 1, 0), 0.05644245282692147)},\n",
       " {((0,), 0.6666665653521114),\n",
       "  ((0, 1), 0.027777871344732377),\n",
       "  ((0, 1, 2), 0.027777777778705885),\n",
       "  ((0, 2, 1), 0.027777777778036066),\n",
       "  ((1, 0), 0.027777785524066522),\n",
       "  ((1, 0, 2), 0.027777777777873783),\n",
       "  ((1, 2, 0), 0.027777777777779986),\n",
       "  ((2, 0, 1), 0.027777777777803016),\n",
       "  ((2, 1, 0), 0.02777777777777986)},\n",
       " {((0,), 0.4999999031428699),\n",
       "  ((0, 1), 0.041666738254831935),\n",
       "  ((0, 1, 2), 0.04166666705395019),\n",
       "  ((0, 2, 1), 0.04166666686325429),\n",
       "  ((1, 0), 0.04166669105191934),\n",
       "  ((1, 0, 2), 0.0416666668362329),\n",
       "  ((1, 2, 0), 0.04166666669598589),\n",
       "  ((2, 0, 1), 0.04166666674197109),\n",
       "  ((2, 1, 0), 0.04166666669231779)}]"
      ]
     },
     "execution_count": 36,
     "metadata": {},
     "output_type": "execute_result"
    }
   ],
   "source": [
    "def F_RPS_reliability(x):\n",
    "    result = 0\n",
    "    for k in range(x + 1):\n",
    "        result += math.factorial(x) / math.factorial(x - k)\n",
    "    return result\n",
    "\n",
    "def get_PMF_with_reliability(RPS_wv, reliability_vector, num_classes):\n",
    "    RPS_wv_r = []\n",
    "\n",
    "    for v, RPS_wv_j in enumerate(RPS_wv):\n",
    "        RPS_wv_r_j = set()\n",
    "        \n",
    "        r_v = reliability_vector[v]\n",
    "    \n",
    "        for A_tuple in RPS_wv_j:\n",
    "            A, MA = A_tuple\n",
    "            if len(A) == 1:\n",
    "                MA_r = MA * r_v\n",
    "            else:\n",
    "                MA_r = MA * r_v + ((1 - r_v) / (F_RPS_reliability(num_classes) - num_classes - 1))\n",
    "            RPS_wv_r_j.add((A, MA_r))\n",
    "            \n",
    "    \n",
    "        RPS_wv_r.append(RPS_wv_r_j)\n",
    "        \n",
    "    return RPS_wv_r\n",
    "\n",
    "RPS_wv_r = get_PMF_with_reliability(RPS_wv, default_reliability_vector, num_classes)\n",
    "RPS_wv_r"
   ]
  },
  {
   "cell_type": "markdown",
   "id": "873c65ee-5297-4ab6-8773-cf6b50876f02",
   "metadata": {},
   "source": [
    "### Step 4\n",
    "Combine the K PMFs with reliability based on LOS or ROS"
   ]
  },
  {
   "cell_type": "code",
   "execution_count": 32,
   "id": "e19582d3-1de3-4544-a152-aced956d5a85",
   "metadata": {},
   "outputs": [
    {
     "name": "stdout",
     "output_type": "stream",
     "text": [
      "右正交 (RI) 结果: ()\n",
      "左正交 (LI) 结果: ()\n"
     ]
    }
   ],
   "source": [
    "def right_intersection(A, B):\n",
    "    \"\"\"\n",
    "    实现集合 A 和 B 的右正交 (RI)，即 B 减去所有不在 A 中的元素。\n",
    "    :param A: 元组 A\n",
    "    :param B: 元组 B\n",
    "    :return: 右正交后的结果\n",
    "    \"\"\"\n",
    "    # 计算 B 中不在 A 中的元素\n",
    "    not_in_A = [item for item in B if item not in A]\n",
    "    # 返回 B 减去这些元素的集合\n",
    "    result = tuple(item for item in B if item not in not_in_A)\n",
    "    return result\n",
    "\n",
    "def left_intersection(A, B):\n",
    "    \"\"\"\n",
    "    实现集合 A 和 B 的左正交 (LI)，即 A 减去所有不在 B 中的元素。\n",
    "    :param A: 元组 A\n",
    "    :param B: 元组 B\n",
    "    :return: 左正交后的结果\n",
    "    \"\"\"\n",
    "    # 计算 A 中不在 B 中的元素\n",
    "    not_in_B = [item for item in A if item not in B]\n",
    "    # 返回 A 减去这些元素的集合\n",
    "    result = tuple(item for item in A if item not in not_in_B)\n",
    "    return result\n",
    "\n",
    "# 示例\n",
    "A_test_tuple = ('R')\n",
    "B_test_tuple = ('G')\n",
    "\n",
    "# 计算右正交和左正交\n",
    "ri_test_result = right_intersection(A_test_tuple, B_test_tuple)\n",
    "li_test_result = left_intersection(A_test_tuple, B_test_tuple)\n",
    "\n",
    "print(\"右正交 (RI) 结果:\", ri_test_result)\n",
    "print(\"左正交 (LI) 结果:\", li_test_result)"
   ]
  },
  {
   "cell_type": "code",
   "execution_count": null,
   "id": "d523000b-5d7f-4938-a180-b1b2caeee514",
   "metadata": {},
   "outputs": [],
   "source": []
  },
  {
   "cell_type": "code",
   "execution_count": null,
   "id": "fcd7a6d5-b230-431b-a32d-51102eeaf14f",
   "metadata": {},
   "outputs": [],
   "source": []
  }
 ],
 "metadata": {
  "kernelspec": {
   "display_name": "Python 3 (ipykernel)",
   "language": "python",
   "name": "python3"
  },
  "language_info": {
   "codemirror_mode": {
    "name": "ipython",
    "version": 3
   },
   "file_extension": ".py",
   "mimetype": "text/x-python",
   "name": "python",
   "nbconvert_exporter": "python",
   "pygments_lexer": "ipython3",
   "version": "3.10.13"
  }
 },
 "nbformat": 4,
 "nbformat_minor": 5
}
