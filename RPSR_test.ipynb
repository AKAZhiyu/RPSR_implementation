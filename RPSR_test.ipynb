{
 "cells": [
  {
   "cell_type": "markdown",
   "id": "33e5c810-50f6-4896-acb4-e43ac5d62ac8",
   "metadata": {},
   "source": [
    "# Hello RRSR!"
   ]
  },
  {
   "cell_type": "code",
   "execution_count": 1,
   "id": "e759451b-d227-4f29-95c5-0005794da73d",
   "metadata": {},
   "outputs": [],
   "source": [
    "import numpy as np\n",
    "import pandas as pd\n",
    "from sklearn.datasets import load_iris\n",
    "from sklearn.model_selection import train_test_split\n",
    "from scipy.stats import norm\n",
    "import itertools\n",
    "from collections import defaultdict"
   ]
  },
  {
   "cell_type": "code",
   "execution_count": 2,
   "id": "4261951c-c34c-4c5b-a77c-1bbb8ab9d7fa",
   "metadata": {},
   "outputs": [],
   "source": [
    "# 1. 加载Iris数据集并划分为训练集和测试集\n",
    "iris = load_iris()\n",
    "X = iris.data  # 四个属性\n",
    "y = iris.target  # 三个类 (0, 1, 2)\n",
    "num_classes = len(np.unique(iris.target))\n",
    "num_attributes = iris.data.shape[1]\n",
    "# 将数据集划分为训练集和测试集，乱序\n",
    "X_train, X_test, y_train, y_test = train_test_split(X, y, test_size=0.2, shuffle=True, random_state=42)"
   ]
  },
  {
   "cell_type": "markdown",
   "id": "9fbb3695-1161-4fb2-b061-ba9b1842ccdf",
   "metadata": {},
   "source": [
    "## RPS generation method"
   ]
  },
  {
   "cell_type": "markdown",
   "id": "09dce0ef-4dd1-4c31-bb6d-c7e721f95b73",
   "metadata": {},
   "source": [
    "### Step 1: \n",
    "Establish Gaussian discriminant model (GDM), and then construct membership vector based on the GDM."
   ]
  },
  {
   "cell_type": "code",
   "execution_count": 3,
   "id": "c7bf6e09-2130-43dd-afa5-f4ec666944c9",
   "metadata": {},
   "outputs": [
    {
     "name": "stdout",
     "output_type": "stream",
     "text": [
      "每个类中每个属性的均值和标准差:\n",
      " [[[4.99       0.3564785 ]\n",
      "  [3.4525     0.39547926]\n",
      "  [1.45       0.18397324]\n",
      "  [0.245      0.10609623]]\n",
      "\n",
      " [[5.9195122  0.54231887]\n",
      "  [2.77073171 0.32034661]\n",
      "  [4.24146341 0.4811318 ]\n",
      "  [1.32195122 0.20556288]]\n",
      "\n",
      " [[6.53333333 0.65386838]\n",
      "  [2.96666667 0.31898963]\n",
      "  [5.52051282 0.5415278 ]\n",
      "  [2.         0.2901905 ]]]\n",
      "Shape of mean_std_by_class:\n",
      " (3, 4, 2)\n"
     ]
    }
   ],
   "source": [
    "# 2. 计算每个类中每个属性的 mean value and standard deviation (无偏估计)\n",
    "mean_std_by_class = []\n",
    "for class_label in np.unique(y_train):\n",
    "    X_class = X_train[y_train == class_label]\n",
    "    mean_std = [(np.mean(X_class[:, i]), np.std(X_class[:, i], ddof=1)) for i in range(X_class.shape[1])]\n",
    "    mean_std_by_class.append(mean_std)\n",
    "\n",
    "mean_std_by_class = np.array(mean_std_by_class)\n",
    "print(\"每个类中每个属性的均值和标准差:\\n\", mean_std_by_class)\n",
    "print(\"Shape of mean_std_by_class:\\n\", mean_std_by_class.shape)"
   ]
  },
  {
   "cell_type": "code",
   "execution_count": 4,
   "id": "abf7318f-686b-4ffb-b66c-7865ae36349f",
   "metadata": {},
   "outputs": [
    {
     "name": "stdout",
     "output_type": "stream",
     "text": [
      "\n",
      "测试集中选取的样本: [6.8 2.8 4.8 1.4]\n",
      "\n",
      "每个类中每个属性的高斯分布函数值:\n",
      " [[2.82308256e-06 2.58628797e-01 2.16673472e-72 6.92713895e-26]\n",
      " [1.96909178e-01 1.24015881e+00 4.22677240e-01 1.80576639e+00]\n",
      " [5.61439257e-01 1.09107548e+00 3.04003048e-01 1.62152041e-01]]\n"
     ]
    }
   ],
   "source": [
    "# 3. 为每个类和每个属性建立高斯分布函数，并对测试集中随机选取的一个样本进行预测\n",
    "\n",
    "# 保存下(3,4)个Gaussian distribution函数\n",
    "# 创建一个(3,4)的函数数组，用来存储每个类中每个属性的高斯分布函数\n",
    "gaussian_functions = np.empty((3, 4), dtype=object)\n",
    "\n",
    "# 初始化并保存高斯分布函数\n",
    "for class_label in range(num_classes):\n",
    "    for i in range(num_attributes):  # 四个属性\n",
    "        mean, std = mean_std_by_class[class_label, i]\n",
    "        # 保存高斯分布函数\n",
    "        gaussian_functions[class_label, i] = norm(loc=mean, scale=std)\n",
    "\n",
    "# 随机选择一个测试集中的样本\n",
    "test_sample = X_test[np.random.randint(0, len(X_test))]\n",
    "\n",
    "# 计算该测试样本在每个类中每个属性的高斯分布结果\n",
    "gaussian_results = []\n",
    "for class_label in range(num_classes):\n",
    "    class_results = []\n",
    "    for i in range(num_attributes):  # 四个属性\n",
    "        # 调用保存的高斯分布函数，计算概率密度值\n",
    "        pdf_value = gaussian_functions[class_label, i].pdf(test_sample[i])\n",
    "        class_results.append(pdf_value)\n",
    "    gaussian_results.append(class_results)\n",
    "\n",
    "gaussian_results = np.array(gaussian_results)\n",
    "print(\"\\n测试集中选取的样本:\", test_sample)\n",
    "print(\"\\n每个类中每个属性的高斯分布函数值:\\n\", gaussian_results)"
   ]
  },
  {
   "cell_type": "markdown",
   "id": "fc4dd7b3-f12f-4ab2-9b2b-0eb6d254516b",
   "metadata": {},
   "source": [
    "### Step 2: \n",
    "Perform weight analysis for the test sample."
   ]
  },
  {
   "cell_type": "code",
   "execution_count": 5,
   "id": "b27f904d-c374-40f3-bc69-c99f024d30d0",
   "metadata": {},
   "outputs": [
    {
     "name": "stdout",
     "output_type": "stream",
     "text": [
      "\n",
      "每个属性针对所有类的归一化后的MV (归一化后的高斯分布值):\n",
      " [[3.72265824e-06 9.98619571e-02 2.98168914e-72 3.52003358e-26]\n",
      " [2.59654318e-01 4.78851109e-01 5.81655024e-01 9.17602255e-01]\n",
      " [7.40341960e-01 4.21286934e-01 4.18344976e-01 8.23977452e-02]]\n"
     ]
    }
   ],
   "source": [
    "column_sums = np.sum(gaussian_results, axis=0)\n",
    "normalized_results = gaussian_results / column_sums\n",
    "print(\"\\n每个属性针对所有类的归一化后的MV (归一化后的高斯分布值):\\n\", normalized_results)"
   ]
  },
  {
   "cell_type": "code",
   "execution_count": 6,
   "id": "bb5cc5c4-8df1-4069-9b7c-cd9480e2a2ca",
   "metadata": {},
   "outputs": [
    {
     "name": "stdout",
     "output_type": "stream",
     "text": [
      "\n",
      "归一化后的MV降序排序的结果:\n",
      " [[7.40341960e-01 4.78851109e-01 5.81655024e-01 9.17602255e-01]\n",
      " [2.59654318e-01 4.21286934e-01 4.18344976e-01 8.23977452e-02]\n",
      " [3.72265824e-06 9.98619571e-02 2.98168914e-72 3.52003358e-26]]\n",
      "\n",
      "每个元素排序前的原始类索引:\n",
      " [[2 1 1 1]\n",
      " [1 2 2 2]\n",
      " [0 0 0 0]]\n"
     ]
    }
   ],
   "source": [
    "# 对归一化后的MV（normalized membership vector）进行降序排序，并保留原始顺序的索引\n",
    "sorted_indices = np.argsort(-normalized_results, axis=0)  # 降序排序，使用负号实现降序\n",
    "sorted_nmv = np.take_along_axis(normalized_results, sorted_indices, axis=0)  # 按照索引排序后的值\n",
    "sorted_gaussian_functions = np.take_along_axis(gaussian_functions, sorted_indices, axis=0) # 按照索引排序后的GDM\n",
    "\n",
    "# 打印结果\n",
    "print(\"\\n归一化后的MV降序排序的结果:\\n\", sorted_nmv)\n",
    "print(\"\\n每个元素排序前的原始类索引:\\n\", sorted_indices)\n"
   ]
  },
  {
   "cell_type": "code",
   "execution_count": 7,
   "id": "064dde09-7d70-4c23-9ad9-b7e80f97c168",
   "metadata": {},
   "outputs": [
    {
     "name": "stdout",
     "output_type": "stream",
     "text": [
      "\n",
      "排序后的 x_mean_ord:\n",
      " [[6.53333333 2.77073171 4.24146341 1.32195122]\n",
      " [5.9195122  2.96666667 5.52051282 2.        ]\n",
      " [4.99       3.4525     1.45       0.245     ]]\n",
      "\n",
      "排序后的 std_ord:\n",
      " [[0.65386838 0.32034661 0.4811318  0.20556288]\n",
      " [0.54231887 0.31898963 0.5415278  0.2901905 ]\n",
      " [0.3564785  0.39547926 0.18397324 0.10609623]]\n"
     ]
    }
   ],
   "source": [
    "x_mean_ord = np.empty((3, 4))\n",
    "std_ord = np.empty((3, 4))\n",
    "\n",
    "\n",
    "# mean_std_by_class 的 shape 是 (3, 4, 2)，索引 [class, attribute, 0] 获取均值，索引 [class, attribute, 1] 获取标准差\n",
    "for attr_idx in range(num_attributes):  # 对每个属性进行操作\n",
    "    for class_idx in range(num_classes):  # 对每个类进行操作\n",
    "        sorted_class_idx = sorted_indices[class_idx, attr_idx]  # 获取排序后的类索引\n",
    "        x_mean_ord[class_idx, attr_idx] = mean_std_by_class[sorted_class_idx, attr_idx, 0]  # 获取排序后的均值\n",
    "        std_ord[class_idx, attr_idx] = mean_std_by_class[sorted_class_idx, attr_idx, 1]  # 获取排序后的标准差\n",
    "\n",
    "print(\"\\n排序后的 x_mean_ord:\\n\", x_mean_ord)\n",
    "print(\"\\n排序后的 std_ord:\\n\", std_ord)"
   ]
  },
  {
   "cell_type": "code",
   "execution_count": 8,
   "id": "cb0cb4ae-a228-4ba8-99a3-2a1804a99644",
   "metadata": {},
   "outputs": [
    {
     "name": "stdout",
     "output_type": "stream",
     "text": [
      "\n",
      "Supporting degree (支持度):\n",
      " [[0.76592834 0.97115588 0.57204559 0.92491931]\n",
      " [0.41458063 0.84648172 0.4865027  0.54881164]\n",
      " [0.16365414 0.52074229 0.03508435 0.31505754]]\n"
     ]
    }
   ],
   "source": [
    "supporting_degree = np.exp(-np.abs(test_sample - x_mean_ord))\n",
    "\n",
    "print(\"\\nSupporting degree (支持度):\\n\", supporting_degree)"
   ]
  },
  {
   "cell_type": "code",
   "execution_count": 9,
   "id": "fb2a34c2-b1ed-4b6e-8d18-3986d31b48e9",
   "metadata": {},
   "outputs": [
    {
     "data": {
      "text/plain": [
       "[(0,),\n",
       " (0, 1),\n",
       " (1, 0),\n",
       " (0, 1, 2),\n",
       " (0, 2, 1),\n",
       " (1, 0, 2),\n",
       " (1, 2, 0),\n",
       " (2, 0, 1),\n",
       " (2, 1, 0)]"
      ]
     },
     "execution_count": 9,
     "metadata": {},
     "output_type": "execute_result"
    }
   ],
   "source": [
    "# 生成所有按顺序选择的排列组合\n",
    "def get_ordered_permutations(num_classes):\n",
    "    result = []\n",
    "    # 逐步增加元素数量\n",
    "    for i in range(1, num_classes + 1):\n",
    "        # 生成i个元素的全排列\n",
    "        result.extend(itertools.permutations(range(i), i))\n",
    "    return result\n",
    "\n",
    "# 获取按顺序选择的排列组合\n",
    "all_combinations = get_ordered_permutations(num_classes)\n",
    "all_combinations"
   ]
  },
  {
   "cell_type": "code",
   "execution_count": 10,
   "id": "3c71d2d0-dfac-400b-a633-62524d00fb34",
   "metadata": {},
   "outputs": [],
   "source": [
    "# supporting_degree: 形状为 (3, 4) 的支持度矩阵 (3个类，4个属性)\n",
    "# num_classes: 类别的数量 (3)\n",
    "# num_attributes: 属性的数量 (4)\n"
   ]
  },
  {
   "cell_type": "code",
   "execution_count": 11,
   "id": "a38f864b-cc12-4b47-8326-852605093b64",
   "metadata": {},
   "outputs": [
    {
     "name": "stdout",
     "output_type": "stream",
     "text": [
      "\n",
      "权重矩阵 (Weight matrix):\n",
      " [[1.         1.         1.         1.        ]\n",
      " [0.64881196 0.53429566 0.54040576 0.62760391]\n",
      " [0.35118804 0.46570434 0.45959424 0.37239609]\n",
      " [0.40854601 0.25712943 0.48788518 0.32848852]\n",
      " [0.16127199 0.15818199 0.03518405 0.18857614]\n",
      " [0.25413077 0.23564177 0.41914354 0.22885194]\n",
      " [0.05429953 0.12635318 0.02570666 0.0779544 ]\n",
      " [0.07899396 0.11898424 0.01733652 0.11053925]\n",
      " [0.04275774 0.10370939 0.01474404 0.06558975]]\n"
     ]
    }
   ],
   "source": [
    "# 初始化权重矩阵 weight_matrix\n",
    "num_combinations = len(all_combinations)  # 所有按顺序排列组合的数量 (应该是9)\n",
    "weight_matrix = np.zeros((num_combinations, num_attributes))  # (9, 4)\n",
    "\n",
    "\n",
    "# 对每个属性计算权重\n",
    "for attr_idx in range(num_attributes):\n",
    "    s = supporting_degree[:, attr_idx]  # 取出该属性对应的支持度 (3,)\n",
    "    \n",
    "    # 遍历每个组合，计算 w(i1...iu...iq)\n",
    "    for comb_idx, combination in enumerate(all_combinations):\n",
    "        q = len(combination)  # 该组合的长度\n",
    "        weight = 1.0  # 初始化权重\n",
    "        \n",
    "        # 根据公式 (19) 计算权重\n",
    "        for u in range(q):\n",
    "            \n",
    "            i_u = combination[u]  # 当前排列项 i_u\n",
    "            numerator = s[i_u]  # 分子支持度\n",
    "            denominator_sum = np.sum(s[list(combination[u:])])  # 分母，从 u 到 q 的支持度和\n",
    "            weight *= numerator / denominator_sum  # 按公式累乘\n",
    "        \n",
    "        # 将计算好的权重保存到 weight_matrix\n",
    "        weight_matrix[comb_idx, attr_idx] = weight\n",
    "\n",
    "# 输出权重矩阵\n",
    "print(\"\\n权重矩阵 (Weight matrix):\\n\", weight_matrix)"
   ]
  },
  {
   "cell_type": "markdown",
   "id": "2b32b54b-df37-4c48-9a48-56e804f1c816",
   "metadata": {},
   "source": [
    "### Step 3: \n",
    "Construct weighted PMF based on weight vector and ONMV, and then generate weighted RPS."
   ]
  },
  {
   "cell_type": "code",
   "execution_count": 12,
   "id": "6b0f6670-1244-4656-bffc-e5097c50ccb7",
   "metadata": {},
   "outputs": [],
   "source": [
    "# 计算 weighted PMF\n",
    "def calculate_weighted_pmf(weight_matrix, sorted_nmv):\n",
    "    num_combinations, num_attributes = weight_matrix.shape\n",
    "    num_classes = sorted_nmv.shape[0]  # 获取类的数量（classes）\n",
    "    \n",
    "    # 获取排列组合\n",
    "    all_combinations = get_ordered_permutations(num_classes)\n",
    "    \n",
    "    # 初始化 weighted_pmf 矩阵\n",
    "    weighted_pmf = np.zeros_like(weight_matrix)\n",
    "    \n",
    "    # 记录当前组合数对应的起始位置\n",
    "    current_row = 0\n",
    "    \n",
    "    # 遍历组合大小 i（从 1 到 num_classes）\n",
    "    for i in range(1, num_classes + 1):\n",
    "        num_permutations = len(list(itertools.permutations(range(i), i)))  # 当前大小的排列组合数量\n",
    "        \n",
    "        # 遍历每个属性 j\n",
    "        for j in range(num_attributes):\n",
    "            # 对于当前大小 i 的排列组合，使用 sorted_nmv[i-1, j]\n",
    "            weighted_pmf[current_row:current_row + num_permutations, j] = (\n",
    "                weight_matrix[current_row:current_row + num_permutations, j] * sorted_nmv[i-1, j]\n",
    "            )\n",
    "        \n",
    "        # 更新起始行\n",
    "        current_row += num_permutations\n",
    "    \n",
    "    return weighted_pmf\n"
   ]
  },
  {
   "cell_type": "markdown",
   "id": "47b3cede-df84-4e29-aaea-1ff8afa5f9f8",
   "metadata": {},
   "source": [
    "用于测试实现正确"
   ]
  },
  {
   "cell_type": "code",
   "execution_count": 13,
   "id": "45c39426-2a86-4377-9fd3-94e1a58d676a",
   "metadata": {},
   "outputs": [
    {
     "name": "stdout",
     "output_type": "stream",
     "text": [
      "\n",
      "测试用 PMF:\n",
      " [[5.0000000e-01 5.4000000e-01 5.6000000e-01 6.1890000e-01]\n",
      " [2.4000000e-01 2.5000000e-01 2.4000000e-01 2.0480314e-01]\n",
      " [8.0000000e-02 5.0000000e-02 1.8000000e-01 1.7629686e-01]\n",
      " [1.5000000e-01 2.8000000e-01 3.0000000e-01 1.2999600e-33]\n",
      " [1.2000000e-01 2.4000000e-01 2.5000000e-01 1.1194100e-33]\n",
      " [9.0000000e-02 8.0000000e-02 2.0000000e-01 2.0158800e-33]\n",
      " [6.0000000e-02 1.2000000e-01 2.5000000e-01 5.1213400e-33]\n",
      " [3.0000000e-02 8.0000000e-02 1.5000000e-01 1.5543000e-33]\n",
      " [6.0000000e-02 4.0000000e-02 2.0000000e-01 4.5891100e-33]]\n"
     ]
    }
   ],
   "source": [
    "# 示例\n",
    "# 假设 weight_matrix 是一个 (9, 4) 的矩阵，sorted_nmv 是一个 (3, 4) 的矩阵\n",
    "# sorted_nmv 示例数据\n",
    "sorted_nmv_FORTEST = np.array([\n",
    "    [0.5, 0.6, 0.7, 0.6189],\n",
    "    [0.4, 0.5, 0.6, 0.3811],\n",
    "    [0.3, 0.4, 0.5, 1.57e-32]\n",
    "])\n",
    "\n",
    "# weight_matrix 示例数据\n",
    "weight_FORTEST = np.array([\n",
    "    [1.0, 0.9, 0.8, 1],\n",
    "    [0.6, 0.5, 0.4, 0.5374],\n",
    "    [0.2, 0.1, 0.3, 0.4626],\n",
    "    [0.5, 0.7, 0.6, 0.0828],\n",
    "    [0.4, 0.6, 0.5, 0.0713],\n",
    "    [0.3, 0.2, 0.4, 0.1284],\n",
    "    [0.2, 0.3, 0.5, 0.3262],\n",
    "    [0.1, 0.2, 0.3, 0.0990],\n",
    "    [0.2, 0.1, 0.4, 0.2923]\n",
    "])\n",
    "\n",
    "# 调用函数计算 weighted PMF\n",
    "weighted_FORTEST = calculate_weighted_pmf(weight_FORTEST, sorted_nmv_FORTEST)\n",
    "print(\"\\n测试用 PMF:\\n\", weighted_FORTEST)"
   ]
  },
  {
   "cell_type": "code",
   "execution_count": 14,
   "id": "83cd84d4-1d16-4b9d-bf0b-e997226edfff",
   "metadata": {},
   "outputs": [
    {
     "name": "stdout",
     "output_type": "stream",
     "text": [
      "\n",
      "Weighted PMF:\n",
      " [[7.40341960e-01 4.78851109e-01 5.81655024e-01 9.17602255e-01]\n",
      " [1.68466827e-01 2.25091779e-01 2.26076033e-01 5.17131473e-02]\n",
      " [9.11874904e-02 1.96195155e-01 1.92268943e-01 3.06845979e-02]\n",
      " [1.52087717e-06 2.56774478e-02 1.45472195e-72 1.15629060e-26]\n",
      " [6.00360520e-07 1.57963635e-02 1.04907906e-73 6.63794362e-27]\n",
      " [9.46041991e-07 2.35316485e-02 1.24975575e-72 8.05566501e-27]\n",
      " [2.02138604e-07 1.26178762e-02 7.66492634e-74 2.74402097e-27]\n",
      " [2.94067503e-07 1.18819987e-02 5.16921205e-74 3.89101884e-27]\n",
      " [1.59172450e-07 1.03566224e-02 4.39621540e-74 2.30878132e-27]]\n"
     ]
    }
   ],
   "source": [
    "weighted_pmf =  calculate_weighted_pmf(weight_matrix, sorted_nmv)\n",
    "print(\"\\nWeighted PMF:\\n\", weighted_pmf)"
   ]
  },
  {
   "cell_type": "code",
   "execution_count": 15,
   "id": "d88f8f00-1744-4781-8b2e-09bae4605703",
   "metadata": {},
   "outputs": [],
   "source": [
    "def get_acc_permutations(num):\n",
    "    all_combinations_ = []\n",
    "    for r in range(1, num + 1):  \n",
    "        permutations_ = list(itertools.permutations(range(num), r))\n",
    "        all_combinations_.extend(permutations_)\n",
    "\n",
    "    return len(all_combinations_)\n",
    "assert get_acc_permutations(3) == 15"
   ]
  },
  {
   "cell_type": "code",
   "execution_count": 16,
   "id": "5534c2b7-c824-4d11-858c-6b89de3216b4",
   "metadata": {},
   "outputs": [
    {
     "data": {
      "text/plain": [
       "[{((0, 1, 2), 1.5917244981330598e-07),\n",
       "  ((0, 2, 1), 2.9406750290725125e-07),\n",
       "  ((1, 0, 2), 2.0213860437974062e-07),\n",
       "  ((1, 2), 0.09118749040651578),\n",
       "  ((1, 2, 0), 9.460419907293513e-07),\n",
       "  ((2,), 0.7403419597193839),\n",
       "  ((2, 0, 1), 6.003605197431245e-07),\n",
       "  ((2, 1), 0.16846682721585785),\n",
       "  ((2, 1, 0), 1.5208771748850276e-06)},\n",
       " {((0, 1, 2), 0.01188199867148949),\n",
       "  ((0, 2, 1), 0.01035662243762494),\n",
       "  ((1,), 0.47885110874073056),\n",
       "  ((1, 0, 2), 0.015796363493213478),\n",
       "  ((1, 2), 0.22509177919736081),\n",
       "  ((1, 2, 0), 0.025677447776139048),\n",
       "  ((2, 0, 1), 0.012617876180362793),\n",
       "  ((2, 1), 0.19619515499138454),\n",
       "  ((2, 1, 0), 0.02353164851169426)},\n",
       " {((0, 1, 2), 5.169212053030185e-74),\n",
       "  ((0, 2, 1), 4.396215399074331e-74),\n",
       "  ((1,), 0.5816550235840346),\n",
       "  ((1, 0, 2), 1.049079060904447e-73),\n",
       "  ((1, 2), 0.22607603321880362),\n",
       "  ((1, 2, 0), 1.454721947440344e-72),\n",
       "  ((2, 0, 1), 7.66492634482424e-74),\n",
       "  ((2, 1), 0.19226894319716173),\n",
       "  ((2, 1, 0), 1.2497557492710257e-72)},\n",
       " {((0, 1, 2), 3.891018838666681e-27),\n",
       "  ((0, 2, 1), 2.3087813150525835e-27),\n",
       "  ((1,), 0.9176022547914116),\n",
       "  ((1, 0, 2), 6.637943618793252e-27),\n",
       "  ((1, 2), 0.051713147346844665),\n",
       "  ((1, 2, 0), 1.1562906044195511e-26),\n",
       "  ((2, 0, 1), 2.7440209721440796e-27),\n",
       "  ((2, 1), 0.030684597861743695),\n",
       "  ((2, 1, 0), 8.055665013028123e-27)}]"
      ]
     },
     "execution_count": 16,
     "metadata": {},
     "output_type": "execute_result"
    }
   ],
   "source": [
    "RPS_w = []\n",
    "for j in range(num_attributes):\n",
    "    RPS_w_j = set()\n",
    "    \n",
    "    thetas = sorted_indices[:, j]\n",
    "    weighted_pmf_j = weighted_pmf[:, j]\n",
    "    \n",
    "    for idx, combination in enumerate(all_combinations):\n",
    "        A = thetas[list(combination)]\n",
    "        M_A = weighted_pmf_j[idx]\n",
    "        A = tuple((A))\n",
    "        RPS_w_j.add((A, M_A))\n",
    "    \n",
    "    RPS_w.append(RPS_w_j)\n",
    "\n",
    "RPS_w"
   ]
  },
  {
   "cell_type": "code",
   "execution_count": 17,
   "id": "2cd531c5-98ec-4909-ac68-17fcd56bc85a",
   "metadata": {},
   "outputs": [
    {
     "data": {
      "text/plain": [
       "{((0, 1, 2), 3.891018838666681e-27),\n",
       " ((0, 2, 1), 2.3087813150525835e-27),\n",
       " ((1,), 0.9176022547914116),\n",
       " ((1, 0, 2), 6.637943618793252e-27),\n",
       " ((1, 2), 0.051713147346844665),\n",
       " ((1, 2, 0), 1.1562906044195511e-26),\n",
       " ((2, 0, 1), 2.7440209721440796e-27),\n",
       " ((2, 1), 0.030684597861743695),\n",
       " ((2, 1, 0), 8.055665013028123e-27)}"
      ]
     },
     "execution_count": 17,
     "metadata": {},
     "output_type": "execute_result"
    }
   ],
   "source": [
    "RPS_w[3]"
   ]
  },
  {
   "cell_type": "markdown",
   "id": "380c0d8e-fa7f-43b0-bfb2-c8c3a35e2f16",
   "metadata": {},
   "source": [
    "## RPSR rule of combination\n"
   ]
  },
  {
   "cell_type": "markdown",
   "id": "094e3d19-7084-4de2-bbf1-092555909687",
   "metadata": {},
   "source": [
    "### Step 1, 2\n",
    "Set fusion order and reliability vector   \n",
    "**Default is descending order**"
   ]
  },
  {
   "cell_type": "code",
   "execution_count": 18,
   "id": "f020f891-51d1-4b7e-9cb2-1f1a52b3be88",
   "metadata": {},
   "outputs": [
    {
     "name": "stdout",
     "output_type": "stream",
     "text": [
      "Default fusion order:  [0, 1, 2, 3]\n",
      "Default reliability vector:  [1.0, 0.8333333333333334, 0.6666666666666667, 0.5]\n"
     ]
    }
   ],
   "source": [
    "default_fusion_order = [i for i in range(num_attributes)]\n",
    "default_reliability_vector = [(1 - 0.5 * i / (num_attributes - 1)) for i in range(num_attributes)]\n",
    "# default_reliability_vector = [(1 - i / (12)) for i in range(num_attributes)]\n",
    "print(\"Default fusion order: \", default_fusion_order)\n",
    "print(\"Default reliability vector: \", default_reliability_vector)"
   ]
  },
  {
   "cell_type": "code",
   "execution_count": 19,
   "id": "d64576c3-07ae-4641-ae4f-6d9e0ce1b438",
   "metadata": {},
   "outputs": [
    {
     "data": {
      "text/plain": [
       "[{((0, 1, 2), 1.5917244981330598e-07),\n",
       "  ((0, 2, 1), 2.9406750290725125e-07),\n",
       "  ((1, 0, 2), 2.0213860437974062e-07),\n",
       "  ((1, 2), 0.09118749040651578),\n",
       "  ((1, 2, 0), 9.460419907293513e-07),\n",
       "  ((2,), 0.7403419597193839),\n",
       "  ((2, 0, 1), 6.003605197431245e-07),\n",
       "  ((2, 1), 0.16846682721585785),\n",
       "  ((2, 1, 0), 1.5208771748850276e-06)},\n",
       " {((0, 1, 2), 0.01188199867148949),\n",
       "  ((0, 2, 1), 0.01035662243762494),\n",
       "  ((1,), 0.47885110874073056),\n",
       "  ((1, 0, 2), 0.015796363493213478),\n",
       "  ((1, 2), 0.22509177919736081),\n",
       "  ((1, 2, 0), 0.025677447776139048),\n",
       "  ((2, 0, 1), 0.012617876180362793),\n",
       "  ((2, 1), 0.19619515499138454),\n",
       "  ((2, 1, 0), 0.02353164851169426)},\n",
       " {((0, 1, 2), 5.169212053030185e-74),\n",
       "  ((0, 2, 1), 4.396215399074331e-74),\n",
       "  ((1,), 0.5816550235840346),\n",
       "  ((1, 0, 2), 1.049079060904447e-73),\n",
       "  ((1, 2), 0.22607603321880362),\n",
       "  ((1, 2, 0), 1.454721947440344e-72),\n",
       "  ((2, 0, 1), 7.66492634482424e-74),\n",
       "  ((2, 1), 0.19226894319716173),\n",
       "  ((2, 1, 0), 1.2497557492710257e-72)},\n",
       " {((0, 1, 2), 3.891018838666681e-27),\n",
       "  ((0, 2, 1), 2.3087813150525835e-27),\n",
       "  ((1,), 0.9176022547914116),\n",
       "  ((1, 0, 2), 6.637943618793252e-27),\n",
       "  ((1, 2), 0.051713147346844665),\n",
       "  ((1, 2, 0), 1.1562906044195511e-26),\n",
       "  ((2, 0, 1), 2.7440209721440796e-27),\n",
       "  ((2, 1), 0.030684597861743695),\n",
       "  ((2, 1, 0), 8.055665013028123e-27)}]"
      ]
     },
     "execution_count": 19,
     "metadata": {},
     "output_type": "execute_result"
    }
   ],
   "source": [
    "def shuffle_by_defusion_order(data, order):\n",
    "    reordered_data = [data[i] for i in order]\n",
    "    return reordered_data\n",
    "\n",
    "RPS_wv = shuffle_by_defusion_order(RPS_w, default_fusion_order)\n",
    "RPS_wv"
   ]
  },
  {
   "cell_type": "markdown",
   "id": "783cd789-c562-4846-9d75-b15863c930a8",
   "metadata": {},
   "source": [
    "### Step 3\n",
    "For each RPS source RPSjv, produce RPS with re\u0002liability RPSjrv"
   ]
  },
  {
   "cell_type": "code",
   "execution_count": 20,
   "id": "eccdd318-09ce-4d0a-b909-35d268808b04",
   "metadata": {},
   "outputs": [
    {
     "data": {
      "text/plain": [
       "[(0,),\n",
       " (1,),\n",
       " (2,),\n",
       " (0, 1),\n",
       " (0, 2),\n",
       " (1, 0),\n",
       " (1, 2),\n",
       " (2, 0),\n",
       " (2, 1),\n",
       " (0, 1, 2),\n",
       " (0, 2, 1),\n",
       " (1, 0, 2),\n",
       " (1, 2, 0),\n",
       " (2, 0, 1),\n",
       " (2, 1, 0)]"
      ]
     },
     "execution_count": 20,
     "metadata": {},
     "output_type": "execute_result"
    }
   ],
   "source": [
    "# Function to generate all permutations and combinations\n",
    "def generate_all_orderings(num):\n",
    "    result = []\n",
    "    \n",
    "    # Iterate over lengths from 1 to 3 (based on the provided examples)\n",
    "    for length in range(1, 4):\n",
    "        # Generate all permutations of the set {0, 1, 2} of the given length\n",
    "        for perm in itertools.permutations(range(num), length):\n",
    "            result.append(perm)\n",
    "    \n",
    "    return result\n",
    "\n",
    "# Get the result\n",
    "orderings = generate_all_orderings(3)\n",
    "\n",
    "orderings\n"
   ]
  },
  {
   "cell_type": "code",
   "execution_count": 21,
   "id": "64f121fa-94b3-4cf9-8952-79cc40e55bc8",
   "metadata": {},
   "outputs": [
    {
     "data": {
      "text/plain": [
       "[{((0,), 0.0),\n",
       "  ((0, 1), 0.0),\n",
       "  ((0, 1, 2), 1.5917244981330598e-07),\n",
       "  ((0, 2), 0.0),\n",
       "  ((0, 2, 1), 2.9406750290725125e-07),\n",
       "  ((1,), 0.0),\n",
       "  ((1, 0), 0.0),\n",
       "  ((1, 0, 2), 2.0213860437974062e-07),\n",
       "  ((1, 2), 0.09118749040651578),\n",
       "  ((1, 2, 0), 9.460419907293513e-07),\n",
       "  ((2,), 0.7403419597193839),\n",
       "  ((2, 0), 0.0),\n",
       "  ((2, 0, 1), 6.003605197431245e-07),\n",
       "  ((2, 1), 0.16846682721585785),\n",
       "  ((2, 1, 0), 1.5208771748850276e-06)},\n",
       " {((0,), 0.0),\n",
       "  ((0, 1), 0.013888888888888886),\n",
       "  ((0, 1, 2), 0.023790554448463463),\n",
       "  ((0, 2), 0.013888888888888886),\n",
       "  ((0, 2, 1), 0.022519407586909672),\n",
       "  ((1,), 0.3990425906172755),\n",
       "  ((1, 0), 0.013888888888888886),\n",
       "  ((1, 0, 2), 0.027052525133233453),\n",
       "  ((1, 2), 0.20146537155335625),\n",
       "  ((1, 2, 0), 0.03528676203567143),\n",
       "  ((2,), 0.0),\n",
       "  ((2, 0), 0.013888888888888886),\n",
       "  ((2, 0, 1), 0.02440378570585788),\n",
       "  ((2, 1), 0.17738485138170934),\n",
       "  ((2, 1, 0), 0.03349859598196744)},\n",
       " {((0,), 0.0),\n",
       "  ((0, 1), 0.027777777777777773),\n",
       "  ((0, 1, 2), 0.027777777777777773),\n",
       "  ((0, 2), 0.027777777777777773),\n",
       "  ((0, 2, 1), 0.027777777777777773),\n",
       "  ((1,), 0.3877700157226898),\n",
       "  ((1, 0), 0.027777777777777773),\n",
       "  ((1, 0, 2), 0.027777777777777773),\n",
       "  ((1, 2), 0.1784951332569802),\n",
       "  ((1, 2, 0), 0.027777777777777773),\n",
       "  ((2,), 0.0),\n",
       "  ((2, 0), 0.027777777777777773),\n",
       "  ((2, 0, 1), 0.027777777777777773),\n",
       "  ((2, 1), 0.15595707324255226),\n",
       "  ((2, 1, 0), 0.027777777777777773)},\n",
       " {((0,), 0.0),\n",
       "  ((0, 1), 0.041666666666666664),\n",
       "  ((0, 1, 2), 0.041666666666666664),\n",
       "  ((0, 2), 0.041666666666666664),\n",
       "  ((0, 2, 1), 0.041666666666666664),\n",
       "  ((1,), 0.4588011273957058),\n",
       "  ((1, 0), 0.041666666666666664),\n",
       "  ((1, 0, 2), 0.041666666666666664),\n",
       "  ((1, 2), 0.067523240340089),\n",
       "  ((1, 2, 0), 0.041666666666666664),\n",
       "  ((2,), 0.0),\n",
       "  ((2, 0), 0.041666666666666664),\n",
       "  ((2, 0, 1), 0.041666666666666664),\n",
       "  ((2, 1), 0.05700896559753851),\n",
       "  ((2, 1, 0), 0.041666666666666664)}]"
      ]
     },
     "execution_count": 21,
     "metadata": {},
     "output_type": "execute_result"
    }
   ],
   "source": [
    "def F_RPS_reliability(x):\n",
    "    result = 0\n",
    "    for k in range(x + 1):\n",
    "        result += math.factorial(x) / math.factorial(x - k)\n",
    "    return result\n",
    "\n",
    "# def get_PMF_with_reliability(RPS_wv, reliability_vector, num_classes):\n",
    "#     RPS_wv_r = []\n",
    "\n",
    "#     for v, RPS_wv_j in enumerate(RPS_wv):\n",
    "#         RPS_wv_r_j = set()\n",
    "        \n",
    "#         r_v = reliability_vector[v]\n",
    "   \n",
    "#         for A_tuple in RPS_wv_j:\n",
    "#             A, MA = A_tuple\n",
    "#             if len(A) == 1:\n",
    "#                 MA_r = MA * r_v\n",
    "#             elif len(A) != 1:\n",
    "#                 MA_r = MA * r_v + ((1 - r_v) / (F_RPS_reliability(num_classes) - num_classes - 1))\n",
    "#             RPS_wv_r_j.add((A, MA_r))\n",
    "            \n",
    "    \n",
    "#         RPS_wv_r.append(RPS_wv_r_j)\n",
    "        \n",
    "#     return RPS_wv_r\n",
    "def get_PMF_with_reliability(RPS_wv, reliability_vector, num_classes):\n",
    "    RPS_wv_r = []\n",
    "\n",
    "    for v, RPS_wv_j in enumerate(RPS_wv):\n",
    "        RPS_wv_r_j = set()\n",
    "        \n",
    "        r_v = reliability_vector[v]\n",
    "\n",
    "        for A_tuple in generate_all_orderings(num_classes):\n",
    "            MA = 0\n",
    "            \n",
    "            if A_tuple in dict(RPS_wv_j):\n",
    "                MA = dict(RPS_wv_j)[A_tuple]\n",
    "            \n",
    "            if len(A_tuple) == 1:\n",
    "                MA_r = MA * r_v\n",
    "            elif len(A_tuple) != 1:\n",
    "                MA_r = MA * r_v + ((1 - r_v) / (F_RPS_reliability(num_classes) - num_classes - 1))\n",
    "                \n",
    "            RPS_wv_r_j.add((A_tuple, MA_r))\n",
    "\n",
    "        RPS_wv_r.append(RPS_wv_r_j)\n",
    "        \n",
    "    return RPS_wv_r\n",
    "\n",
    "RPS_wv_r = get_PMF_with_reliability(RPS_wv, default_reliability_vector, num_classes)\n",
    "RPS_wv_r"
   ]
  },
  {
   "cell_type": "code",
   "execution_count": 22,
   "id": "92781df8-cd78-40c9-8a48-e027d2e4adad",
   "metadata": {},
   "outputs": [
    {
     "data": {
      "text/plain": [
       "12.0"
      ]
     },
     "execution_count": 22,
     "metadata": {},
     "output_type": "execute_result"
    }
   ],
   "source": [
    "F_RPS_reliability(num_classes) - num_classes - 1"
   ]
  },
  {
   "cell_type": "markdown",
   "id": "873c65ee-5297-4ab6-8773-cf6b50876f02",
   "metadata": {},
   "source": [
    "### Step 4\n",
    "Combine the K PMFs with reliability based on LOS or ROS"
   ]
  },
  {
   "cell_type": "code",
   "execution_count": null,
   "id": "e19582d3-1de3-4544-a152-aced956d5a85",
   "metadata": {},
   "outputs": [],
   "source": [
    "def right_intersection(A, B):\n",
    "    \"\"\"\n",
    "    右正交 (RI)，即 B 中去除不在 A 中的元素\n",
    "    \"\"\"\n",
    "    return tuple(item for item in B if item in A)\n",
    "\n",
    "def left_intersection(A, B):\n",
    "    \"\"\"\n",
    "    左正交 (LI)，即 A 中去除不在 B 中的元素\n",
    "    \"\"\"\n",
    "    return tuple(item for item in A if item in B)"
   ]
  },
  {
   "cell_type": "code",
   "execution_count": null,
   "id": "d523000b-5d7f-4938-a180-b1b2caeee514",
   "metadata": {},
   "outputs": [],
   "source": [
    "# 测试用例\n",
    "test_cases = [\n",
    "    # 第一行测试用例\n",
    "    ((\"R\",), (\"G\",), tuple(), tuple()),        # 应该返回空 (∅)\n",
    "    ((\"R\",), (\"R\", \"B\"), (\"R\",), (\"R\",)),    # (R) left and right intersections\n",
    "    ((\"R\",), (\"R\", \"G\", \"B\"), (\"R\",), (\"R\",)),   # (R) left and right intersections\n",
    "    ((\"R\",), (\"G\", \"B\", \"R\"), (\"R\",), (\"R\",)),   # (R) left and right intersections\n",
    "\n",
    "    # 第二行测试用例\n",
    "    ((\"R\", \"B\"), (\"G\",), tuple(), tuple()),           # 空 (∅)\n",
    "    ((\"R\", \"B\"), (\"R\", \"B\"), (\"R\", \"B\"), (\"R\", \"B\")),  # (R, B) left and right intersections\n",
    "    ((\"R\", \"B\"), (\"R\", \"G\", \"B\"), (\"R\", \"B\"), (\"R\", \"B\")),  # (R, B) left and right intersections\n",
    "    ((\"R\", \"B\"), (\"G\", \"B\", \"R\"), (\"R\", \"B\"), (\"B\", \"R\")),  # (R, B) left and right intersections\n",
    "\n",
    "    # 第三行测试用例\n",
    "    ((\"B\", \"R\"), (\"G\",), tuple(), tuple()),  # 空 (∅)\n",
    "    ((\"B\", \"R\"), (\"R\", \"B\"), (\"B\", \"R\"), (\"R\", \"B\")),  # (B, R) left and right intersections\n",
    "    ((\"B\", \"R\"), (\"R\", \"G\", \"B\"), (\"B\", \"R\"), (\"R\", \"B\")),  # (B, R) left and right intersections\n",
    "    ((\"B\", \"R\"), (\"G\", \"B\", \"R\"), (\"B\", \"R\"), (\"B\", \"R\")),  # (B, R) left and right intersections\n",
    "]\n",
    "\n",
    "# 运行测试\n",
    "for i, (A, B, expected_li, expected_ri) in enumerate(test_cases):\n",
    "    li_result = left_intersection(A, B)\n",
    "    ri_result = right_intersection(A, B)\n",
    "\n",
    "    print(f\"Test case {i+1}:\")\n",
    "    print(f\"Left Intersection (A: {A}, B: {B}): {li_result}, expected: {expected_li}\")\n",
    "    print(f\"Right Intersection (A: {A}, B: {B}): {ri_result}, expected: {expected_ri}\")\n",
    "    print(\"=\"*50)"
   ]
  },
  {
   "cell_type": "code",
   "execution_count": null,
   "id": "0dedec5f-d3c2-4987-9638-659afede3637",
   "metadata": {},
   "outputs": [],
   "source": [
    "def calculate_KR(M1, M2):\n",
    "    \"\"\"\n",
    "    计算右正交和的 K^R (K_R)\n",
    "    \"\"\"\n",
    "    K_R = 0\n",
    "    for B, w1 in M1:\n",
    "        for C, w2 in M2:\n",
    "            if right_intersection(B, C) == ():\n",
    "                K_R += w1 * w2\n",
    "    return K_R\n",
    "\n",
    "def calculate_KL(M1, M2):\n",
    "    \"\"\"\n",
    "    计算左正交和的 K^L (K_L)\n",
    "    \"\"\"\n",
    "    K_L = 0\n",
    "    for B, w1 in M1:\n",
    "        for C, w2 in M2:\n",
    "            if left_intersection(B, C) == ():\n",
    "                K_L += w1 * w2\n",
    "    return K_L\n",
    "\n",
    "def ROS(M1, M2):\n",
    "    \"\"\"\n",
    "    右正交和 (ROS)\n",
    "    \"\"\"\n",
    "    K_R = calculate_KR(M1, M2)\n",
    "    result = set()\n",
    "\n",
    "    if K_R != 1:  # 防止 K_R 为 1 时出现除以 0 的情况\n",
    "        for A, w1 in M1:\n",
    "            weight_sum = 0\n",
    "            for B, w1 in M1:\n",
    "                for C, w2 in M2:\n",
    "                    if right_intersection(B, C) == A:\n",
    "                        weight_sum += w1 * w2\n",
    "            if weight_sum > 0:\n",
    "                result.add((A, (1 / (1 - K_R)) * weight_sum))\n",
    "\n",
    "    return result\n",
    "\n",
    "def LOS(M1, M2):\n",
    "    \"\"\"\n",
    "    左正交和 (LOS)\n",
    "    \"\"\"\n",
    "    K_L = calculate_KL(M1, M2)\n",
    "    result = set()\n",
    "\n",
    "    if K_L != 1:  # 防止 K_L 为 1 时出现除以 0 的情况\n",
    "        for A, w1 in M1:\n",
    "            weight_sum = 0\n",
    "            for B, w1 in M1:\n",
    "                for C, w2 in M2:\n",
    "                    if left_intersection(B, C) == A:\n",
    "                        weight_sum += w1 * w2\n",
    "            if weight_sum > 0:\n",
    "                result.add((A, (1 / (1 - K_L)) * weight_sum))\n",
    "\n",
    "    return result"
   ]
  },
  {
   "cell_type": "code",
   "execution_count": null,
   "id": "fc671c1e-a9a4-41ef-865e-527b0cda5dbc",
   "metadata": {},
   "outputs": [],
   "source": [
    "# 输入的数据结构 (集合)\n",
    "M1 = {\n",
    "    ((0,), 0.4),\n",
    "    ((0, 2), 0.3),\n",
    "    ((2, 0), 0.3)\n",
    "}\n",
    "\n",
    "M2 = {\n",
    "    ((1,), 0.4),\n",
    "    ((0, 2), 0.1),\n",
    "    ((0, 1, 2), 0.15),\n",
    "    ((1, 2, 0), 0.35)\n",
    "}\n",
    "\n",
    "# 计算右正交和 (ROS)\n",
    "ros_result = ROS(M1, M2)\n",
    "print(\"Right Orthogonal Sum (ROS):\")\n",
    "for item in ros_result:\n",
    "    print(item)\n",
    "\n",
    "# 计算左正交和 (LOS)\n",
    "los_result = LOS(M1, M2)\n",
    "print(\"\\nLeft Orthogonal Sum (LOS):\")\n",
    "for item in los_result:\n",
    "    print(item)"
   ]
  },
  {
   "cell_type": "code",
   "execution_count": null,
   "id": "af001e06-628b-497c-9583-cea8fa511969",
   "metadata": {},
   "outputs": [],
   "source": [
    "# 连续右正交和\n",
    "def continuous_right_orthogonal_sum(PMFs):\n",
    "    \"\"\"\n",
    "    连续执行右正交和操作\n",
    "    :param PMFs: 输入的PMF列表\n",
    "    :return: 最终的右正交和结果\n",
    "    \"\"\"\n",
    "    result = PMFs[0]\n",
    "    for i in range(1, len(PMFs)):\n",
    "        result = ROS(result, PMFs[i])\n",
    "    return result\n",
    "\n",
    "# 连续左正交和\n",
    "def continuous_left_orthogonal_sum(PMFs):\n",
    "    \"\"\"\n",
    "    连续执行左正交和操作\n",
    "    :param PMFs: 输入的PMF列表\n",
    "    :return: 最终的左正交和结果\n",
    "    \"\"\"\n",
    "    result = PMFs[0]\n",
    "    for i in range(1, len(PMFs)):\n",
    "        result = LOS(result, PMFs[i])\n",
    "    return result"
   ]
  },
  {
   "cell_type": "code",
   "execution_count": null,
   "id": "6e802b3f-e9a3-4f4b-baaf-f11cf0f57e45",
   "metadata": {},
   "outputs": [],
   "source": [
    "fused_PMF_desc = continuous_left_orthogonal_sum(RPS_wv_r)\n",
    "# for i in fused_PMF_desc:\n",
    "#     print(i)\n",
    "fused_PMF_desc"
   ]
  },
  {
   "cell_type": "markdown",
   "id": "4cc77edd-dc5f-4a21-af83-e87fe60471ca",
   "metadata": {},
   "source": [
    "## Ordered probability transformation"
   ]
  },
  {
   "cell_type": "code",
   "execution_count": null,
   "id": "4035788e-6ab3-4620-87b6-49f1731ed47c",
   "metadata": {},
   "outputs": [],
   "source": [
    "def calculate_OPT(pmf_data, num_classes):\n",
    "    # 初始化 P_OPT, 每个类的初始概率为0\n",
    "    P_OPT = {i: 0 for i in range(num_classes)}\n",
    "    \n",
    "    # 遍历 PMF 数据，处理每个排列事件\n",
    "    for A, mass in pmf_data:\n",
    "        if len(A) == 1:\n",
    "            # 单元素事件，直接加到对应的 P_OPT 中\n",
    "            theta = A[0]\n",
    "            P_OPT[theta] += mass\n",
    "        else:\n",
    "            # 多元素事件\n",
    "            last_element = A[-1]\n",
    "            for theta in A:\n",
    "                if theta != last_element:\n",
    "                    P_OPT[theta] += mass / (len(A) - 1)\n",
    "    \n",
    "    return P_OPT\n",
    "\n",
    "# 计算 OPT 概率分布\n",
    "P_OPT = calculate_OPT(fused_PMF_desc, num_classes)\n",
    "\n",
    "# 输出结果\n",
    "print(\"P_OPT(θ):\")\n",
    "for theta, prob in P_OPT.items():\n",
    "    print(f\"P_OPT({theta}) = {prob}\")"
   ]
  },
  {
   "cell_type": "code",
   "execution_count": null,
   "id": "ad275a73-030b-463b-a7fc-3f004a31c989",
   "metadata": {},
   "outputs": [],
   "source": []
  }
 ],
 "metadata": {
  "kernelspec": {
   "display_name": "Python 3 (ipykernel)",
   "language": "python",
   "name": "python3"
  },
  "language_info": {
   "codemirror_mode": {
    "name": "ipython",
    "version": 3
   },
   "file_extension": ".py",
   "mimetype": "text/x-python",
   "name": "python",
   "nbconvert_exporter": "python",
   "pygments_lexer": "ipython3",
   "version": "3.11.8"
  }
 },
 "nbformat": 4,
 "nbformat_minor": 5
}
